{
 "cells": [
  {
   "cell_type": "code",
   "execution_count": 20,
   "id": "bc438220",
   "metadata": {},
   "outputs": [],
   "source": [
    "%matplotlib inline\n",
    "import matplotlib.pyplot as plt\n",
    "import torch\n",
    "from torchvision import datasets,transforms,io\n",
    "from torch import utils"
   ]
  },
  {
   "cell_type": "markdown",
   "id": "461ef348",
   "metadata": {},
   "source": [
    "### datasets.ImageFolder returns Dataset object with contains tuples => (image, class)."
   ]
  },
  {
   "cell_type": "code",
   "execution_count": 21,
   "id": "295d2343",
   "metadata": {},
   "outputs": [],
   "source": [
    "transform = transforms.Compose([transforms.Resize((255,255)),transforms.ToTensor()])\n",
    "dataset = datasets.ImageFolder('./archive/caltech101_classification/',transform=transform)\n",
    "# dataloader = torch.utils.data.DataLoader(dataset, batch_size=32, shuffle=True)"
   ]
  },
  {
   "cell_type": "markdown",
   "id": "ff857174",
   "metadata": {},
   "source": [
    "dataset saves the tuple for all images in the form (imageMatrix,imageLabel)"
   ]
  },
  {
   "cell_type": "code",
   "execution_count": 22,
   "id": "e2a01748",
   "metadata": {},
   "outputs": [],
   "source": [
    "trainData,testData = utils.data.random_split(dataset,[1330,331])"
   ]
  },
  {
   "cell_type": "markdown",
   "id": "7efbacbf",
   "metadata": {},
   "source": [
    "~~ImageFolder will apply transformation lazily i.e. when ever an image is called then only it will apply transformation.<br>\n",
    "Ex.print(dataset[15][0].shape) - When this statement is called, it will execute transforms on this one image only<br>\n",
    "When we random_split 'dataset' into traning, testing, validation, (random_split will not execute the transforms on the images in datset, instead it will just split the list of images into three sets i.e. training,testing,validaiton) and when we call these images it will load original images from disk without transformation.<br>\n",
    "So to we have to individually apply transforms on each sets (traning,testing,validation)~~ <br><br>\n",
    "Transformation of 'dataset' will also be applied to train, test, validation split"
   ]
  },
  {
   "cell_type": "code",
   "execution_count": 23,
   "id": "4b12fa1b",
   "metadata": {},
   "outputs": [],
   "source": [
    "trainDataLoader = torch.utils.data.DataLoader(trainData, batch_size=32, shuffle=True)\n",
    "testDataLoader = torch.utils.data.DataLoader(testData, batch_size=32, shuffle=True)"
   ]
  },
  {
   "cell_type": "markdown",
   "id": "b5c45b88",
   "metadata": {},
   "source": [
    "**********************************************************************************************************"
   ]
  },
  {
   "cell_type": "code",
   "execution_count": 26,
   "id": "baaa3998",
   "metadata": {},
   "outputs": [
    {
     "data": {
      "text/plain": [
       "CNN(\n",
       "  (layer1): Sequential(\n",
       "    (0): Conv2d(3, 16, kernel_size=(3, 3), stride=(1, 1), padding=(1, 1))\n",
       "    (1): ReLU()\n",
       "    (2): MaxPool2d(kernel_size=2, stride=2, padding=0, dilation=1, ceil_mode=False)\n",
       "  )\n",
       "  (layer2): Sequential(\n",
       "    (0): Conv2d(16, 64, kernel_size=(3, 3), stride=(1, 1), padding=(1, 1))\n",
       "    (1): ReLU()\n",
       "    (2): MaxPool2d(kernel_size=2, stride=2, padding=0, dilation=1, ceil_mode=False)\n",
       "  )\n",
       "  (layer3): Sequential(\n",
       "    (0): Conv2d(64, 128, kernel_size=(3, 3), stride=(1, 1), padding=(1, 1))\n",
       "    (1): ReLU()\n",
       "    (2): MaxPool2d(kernel_size=2, stride=2, padding=1, dilation=1, ceil_mode=False)\n",
       "  )\n",
       "  (fc1): Linear(in_features=131072, out_features=625, bias=True)\n",
       "  (layer4): Sequential(\n",
       "    (0): Linear(in_features=131072, out_features=625, bias=True)\n",
       "    (1): ReLU()\n",
       "  )\n",
       "  (fc2): Linear(in_features=625, out_features=3, bias=True)\n",
       ")"
      ]
     },
     "execution_count": 26,
     "metadata": {},
     "output_type": "execute_result"
    }
   ],
   "source": [
    "# Implementation of CNN/ConvNet Model\n",
    "class CNN(torch.nn.Module):\n",
    "\n",
    "    def __init__(self):\n",
    "        super(CNN, self).__init__()\n",
    "        # L1 ImgIn shape=(?, 28, 28, 1)\n",
    "        # Conv -> (?, 28, 28, 32)\n",
    "        # Pool -> (?, 14, 14, 32)\n",
    "        self.layer1 = torch.nn.Sequential(\n",
    "            torch.nn.Conv2d(3, 16, kernel_size=3, stride=1, padding=1),\n",
    "            torch.nn.ReLU(),\n",
    "            torch.nn.MaxPool2d(kernel_size=2, stride=2),\n",
    "#             torch.nn.Dropout(p=1 - keep_prob)\n",
    "        )\n",
    "        # L2 ImgIn shape=(?, 14, 14, 32)\n",
    "        # Conv      ->(?, 14, 14, 64)\n",
    "        # Pool      ->(?, 7, 7, 64)\n",
    "        self.layer2 = torch.nn.Sequential(\n",
    "            torch.nn.Conv2d(16, 64, kernel_size=3, stride=1, padding=1),\n",
    "            torch.nn.ReLU(),\n",
    "            torch.nn.MaxPool2d(kernel_size=2, stride=2),\n",
    "#             torch.nn.Dropout(p=1 - keep_prob)\n",
    "        )\n",
    "        # L3 ImgIn shape=(?, 7, 7, 64)\n",
    "        # Conv ->(?, 7, 7, 128)\n",
    "        # Pool ->(?, 4, 4, 128)\n",
    "        self.layer3 = torch.nn.Sequential(\n",
    "            torch.nn.Conv2d(64, 128, kernel_size=3, stride=1, padding=1),\n",
    "            torch.nn.ReLU(),\n",
    "            torch.nn.MaxPool2d(kernel_size=2, stride=2, padding=1),\n",
    "#             torch.nn.Dropout(p=1 - keep_prob)\n",
    "        )\n",
    "\n",
    "        # L4 FC 4x4x128 inputs -> 625 outputs\n",
    "        self.fc1 = torch.nn.Linear(32 * 32 * 128, 625, bias=True)\n",
    "        torch.nn.init.xavier_uniform_(self.fc1.weight)\n",
    "        self.layer4 = torch.nn.Sequential(\n",
    "            self.fc1,\n",
    "            torch.nn.ReLU()\n",
    "#             torch.nn.Dropout(p=1 - keep_prob)\n",
    "        )\n",
    "        # L5 Final FC 625 inputs -> 10 outputs\n",
    "        self.fc2 = torch.nn.Linear(625, 3, bias=True)\n",
    "        torch.nn.init.xavier_uniform_(self.fc2.weight) # initialize parameters\n",
    "\n",
    "    def forward(self, x):\n",
    "        out = self.layer1(x)\n",
    "        out = self.layer2(out)\n",
    "        out = self.layer3(out)\n",
    "        out = out.view(out.size(0), -1)   # Flatten them for FC\n",
    "        out = self.fc1(out)\n",
    "        out = self.fc2(out)\n",
    "        return out\n",
    "\n",
    "\n",
    "#instantiate CNN model\n",
    "model = CNN()\n",
    "model\n"
   ]
  },
  {
   "cell_type": "code",
   "execution_count": 12,
   "id": "caef8045",
   "metadata": {},
   "outputs": [],
   "source": [
    "learning_rate = 0.001\n",
    "criterion = torch.nn.CrossEntropyLoss()    # Softmax is internally computed.\n",
    "optimizer = torch.optim.Adam(params=model.parameters(), lr=learning_rate)"
   ]
  },
  {
   "cell_type": "code",
   "execution_count": 13,
   "id": "ad340853",
   "metadata": {},
   "outputs": [
    {
     "name": "stdout",
     "output_type": "stream",
     "text": [
      "Training the Deep Learning network ...\n",
      "Epoch= 1,\t batch = 0,\t cost = 1.1156,\t accuracy = 0.03125\n",
      "[Epoch:    1], averaged cost = inf\n",
      "Epoch= 2,\t batch = 0,\t cost = 0.8623,\t accuracy = 0.8125\n",
      "[Epoch:    2], averaged cost = inf\n",
      "Epoch= 3,\t batch = 0,\t cost = 0.5508,\t accuracy = 0.8125\n",
      "[Epoch:    3], averaged cost = inf\n",
      "Epoch= 4,\t batch = 0,\t cost = 0.0064,\t accuracy = 1.0\n",
      "[Epoch:    4], averaged cost = inf\n",
      "Epoch= 5,\t batch = 0,\t cost = 0.0012,\t accuracy = 1.0\n",
      "[Epoch:    5], averaged cost = inf\n",
      "Learning Finished!\n"
     ]
    }
   ],
   "source": [
    "from torch.autograd import Variable\n",
    "print('Training the Deep Learning network ...')\n",
    "train_cost = []\n",
    "train_accu = []\n",
    "\n",
    "training_epochs = 5\n",
    "total_batch = len(trainDataLoader) // 32 #batch_size\n",
    "\n",
    "# print('Size of the training dataset is {}'.format(trainData.data.size()))\n",
    "# print('Size of the testing dataset'.format(testDataLoader.data.size()))\n",
    "# # print('Batch size is : {}'.format(batch_size))\n",
    "# # print('Total number of batches is : {0:2.0f}'.format(total_batch))\n",
    "# print('\\nTotal number of epochs is : {0:2.0f}'.format(training_epochs))\n",
    "\n",
    "for epoch in range(training_epochs):\n",
    "    avg_cost = 0\n",
    "    for i, (batch_X, batch_Y) in enumerate(trainDataLoader):\n",
    "        X = Variable(batch_X)    # image is already size of (28x28), no reshape\n",
    "        Y = Variable(batch_Y)    # label is not one-hot encoded\n",
    "\n",
    "        optimizer.zero_grad() # <= initialization of the gradients\n",
    "        \n",
    "        # forward propagation\n",
    "        hypothesis = model(X)\n",
    "        cost = criterion(hypothesis, Y) # <= compute the loss function\n",
    "        \n",
    "        # Backward propagation\n",
    "        cost.backward() # <= compute the gradient of the loss/cost function     \n",
    "        optimizer.step() # <= Update the gradients\n",
    "             \n",
    "        # Print some performance to monitor the training\n",
    "        prediction = hypothesis.data.max(dim=1)[1]\n",
    "        train_accu.append(((prediction.data == Y.data).float().mean()).item())\n",
    "        train_cost.append(cost.item())   \n",
    "        if i % 200 == 0:\n",
    "            print(\"Epoch= {},\\t batch = {},\\t cost = {:2.4f},\\t accuracy = {}\".format(epoch+1, i, train_cost[-1], train_accu[-1]))\n",
    "       \n",
    "        avg_cost += cost.data / total_batch\n",
    "\n",
    "    print(\"[Epoch: {:>4}], averaged cost = {:>.9}\".format(epoch + 1, avg_cost.item()))\n",
    "\n",
    "\n",
    "print('Learning Finished!')\n"
   ]
  },
  {
   "cell_type": "code",
   "execution_count": 14,
   "id": "851bb26c",
   "metadata": {},
   "outputs": [
    {
     "data": {
      "text/plain": [
       "torch.Tensor"
      ]
     },
     "execution_count": 14,
     "metadata": {},
     "output_type": "execute_result"
    }
   ],
   "source": [
    "type(testData[0][0])"
   ]
  },
  {
   "cell_type": "code",
   "execution_count": 15,
   "id": "11408310",
   "metadata": {},
   "outputs": [
    {
     "name": "stdout",
     "output_type": "stream",
     "text": [
      "Accuracy of the network on the 10000 test images: 97 %\n"
     ]
    }
   ],
   "source": [
    "# # Test model and check accuracy\n",
    "# model.eval()    # set the model to evaluation mode (dropout=False)\n",
    "\n",
    "# X_test = Variable(testData[0][0].view(len(testData[0][0]), 255, 255).float())\n",
    "# # Y_test = Variable(testData[0][1])\n",
    "# print(X_test)\n",
    "\n",
    "# prediction = model(X_test)\n",
    "# print(prediction)\n",
    "\n",
    "# Compute accuracy\n",
    "# correct_prediction = (torch.max(prediction.data, dim=1)[1] == Y_test.data)\n",
    "# accuracy = correct_prediction.float().mean().item()\n",
    "# print('\\nAccuracy: {:2.2f} %'.format(accuracy*100))\n",
    "\n",
    "correct = 0\n",
    "total = 0\n",
    "# since we're not training, we don't need to calculate the gradients for our outputs\n",
    "with torch.no_grad():\n",
    "    for data in testDataLoader:\n",
    "        images, labels = data\n",
    "        # calculate outputs by running images through the network \n",
    "        outputs = model(images)\n",
    "        # the class with the highest energy is what we choose as prediction\n",
    "        _, predicted = torch.max(outputs.data, 1)\n",
    "        total += labels.size(0)\n",
    "        correct += (predicted == labels).sum().item()\n",
    "\n",
    "print('Accuracy of the network on the 10000 test images: %d %%' % (\n",
    "    100 * correct / total))"
   ]
  },
  {
   "cell_type": "code",
   "execution_count": 16,
   "id": "13640573",
   "metadata": {},
   "outputs": [
    {
     "name": "stdout",
     "output_type": "stream",
     "text": [
      "Motorbikes\n"
     ]
    },
    {
     "data": {
      "image/png": "[encoded data removed]",
      "text/plain": [
       "<Figure size 432x288 with 1 Axes>"
      ]
     },
     "metadata": {
      "needs_background": "light"
     },
     "output_type": "display_data"
    }
   ],
   "source": [
    "plt.imshow(testData[0][0].permute(1,2,0))\n",
    "print(testData.dataset.classes[testData[0][1]])"
   ]
  },
  {
   "cell_type": "code",
   "execution_count": 17,
   "id": "c00757e3",
   "metadata": {
    "scrolled": true
   },
   "outputs": [
    {
     "name": "stdout",
     "output_type": "stream",
     "text": [
      "lable= tensor([2, 1, 1, 1, 1, 1, 0, 1, 1, 1, 1, 1, 0, 1, 1, 0, 0, 1, 1, 0, 1, 0, 1, 1,\n",
      "        0, 0, 0, 0, 1, 1, 1, 0])\n",
      "tensor([[ -2.4549,  -2.4703,   3.3772],\n",
      "        [ -3.8393,   8.2727,  -2.9189],\n",
      "        [  1.4143,  12.0575,  -8.7138],\n",
      "        [ -0.4720,   6.8514,  -4.2258],\n",
      "        [ -1.9086,   8.6503,  -4.4176],\n",
      "        [ -2.5214,   7.5139,  -3.4539],\n",
      "        [ 10.8257,   4.9713, -10.0350],\n",
      "        [  2.8582,  13.0244,  -9.9364],\n",
      "        [  1.6674,  10.7534,  -7.9706],\n",
      "        [ -0.6157,  13.0340,  -8.0971],\n",
      "        [  0.7389,  11.0207,  -7.4198],\n",
      "        [ -0.7037,  12.1331,  -7.3413],\n",
      "        [  7.9501,   7.4324,  -9.6441],\n",
      "        [ -4.5239,   7.7136,  -1.9903],\n",
      "        [ -3.3492,   4.7524,  -0.9237],\n",
      "        [ 10.0068,   7.8584, -11.4534],\n",
      "        [  9.6223,   3.6256,  -8.5215],\n",
      "        [  1.3910,  11.3280,  -8.0404],\n",
      "        [ -1.2152,   8.3823,  -4.7129],\n",
      "        [ 15.2740,  -1.2458,  -8.8713],\n",
      "        [  0.9913,  11.9841,  -8.4128],\n",
      "        [ 15.1961,  -3.9188,  -7.0409],\n",
      "        [  0.5451,   9.6113,  -6.7140],\n",
      "        [  0.5853,  12.4693,  -8.4480],\n",
      "        [ 15.8015,   1.7560, -11.1860],\n",
      "        [ 12.5972,  -3.4990,  -5.8414],\n",
      "        [ 14.3077,   3.9043, -11.6368],\n",
      "        [ 14.6784,  -4.1152,  -6.6721],\n",
      "        [  2.8933,  14.9410, -11.0634],\n",
      "        [  3.3750,   1.1233,  -3.0999],\n",
      "        [ -1.6733,   6.3258,  -3.1738],\n",
      "        [  6.4287,   3.4837,  -6.2443]])\n",
      "tensor([2, 1, 1, 1, 1, 1, 0, 1, 1, 1, 1, 1, 0, 1, 1, 0, 0, 1, 1, 0, 1, 0, 1, 1,\n",
      "        0, 0, 0, 0, 1, 0, 1, 0])\n"
     ]
    }
   ],
   "source": [
    "for data in testDataLoader:\n",
    "    im,label = data\n",
    "    print(\"lable=\",label)\n",
    "    op=model(im)\n",
    "    print(op.data)\n",
    "    _, predicted = torch.max(op.data, 1)\n",
    "    print(predicted)\n",
    "    break"
   ]
  },
  {
   "cell_type": "code",
   "execution_count": 54,
   "id": "018cc0a2",
   "metadata": {},
   "outputs": [
    {
     "name": "stdout",
     "output_type": "stream",
     "text": [
      "<class 'list'>\n"
     ]
    }
   ],
   "source": [
    "for i in testDataLoader:\n",
    "    print(type(i))\n",
    "    break"
   ]
  },
  {
   "cell_type": "code",
   "execution_count": 53,
   "id": "7322080f",
   "metadata": {
    "collapsed": true
   },
   "outputs": [
    {
     "name": "stdout",
     "output_type": "stream",
     "text": [
      "schooner\n",
      "airplanes\n",
      "airplanes\n",
      "airplanes\n",
      "airplanes\n",
      "airplanes\n",
      "Motorbikes\n",
      "airplanes\n",
      "airplanes\n",
      "airplanes\n",
      "airplanes\n",
      "airplanes\n",
      "Motorbikes\n",
      "airplanes\n",
      "airplanes\n",
      "Motorbikes\n",
      "Motorbikes\n",
      "airplanes\n",
      "airplanes\n",
      "Motorbikes\n",
      "airplanes\n",
      "Motorbikes\n",
      "airplanes\n",
      "airplanes\n",
      "Motorbikes\n",
      "Motorbikes\n",
      "Motorbikes\n",
      "Motorbikes\n",
      "airplanes\n",
      "Motorbikes\n",
      "airplanes\n",
      "Motorbikes\n"
     ]
    }
   ],
   "source": [
    "for i in predicted:\n",
    "    print(testData.dataset.classes[i])"
   ]
  },
  {
   "cell_type": "markdown",
   "id": "e7faf643",
   "metadata": {},
   "source": [
    "## Checking if train "
   ]
  },
  {
   "cell_type": "code",
   "execution_count": 19,
   "id": "3ce4b842",
   "metadata": {},
   "outputs": [
    {
     "data": {
      "text/plain": [
       "Counter({0: 431, 1: 462, 2: 37})"
      ]
     },
     "execution_count": 19,
     "metadata": {},
     "output_type": "execute_result"
    }
   ],
   "source": [
    "from collections import Counter\n",
    "Counter([i[1] for i in trainData])"
   ]
  }
 ],
 "metadata": {
  "kernelspec": {
   "display_name": "Python 3",
   "language": "python",
   "name": "python3"
  },
  "language_info": {
   "codemirror_mode": {
    "name": "ipython",
    "version": 3
   },
   "file_extension": ".py",
   "mimetype": "text/x-python",
   "name": "python",
   "nbconvert_exporter": "python",
   "pygments_lexer": "ipython3",
   "version": "3.8.8"
  }
 },
 "nbformat": 4,
 "nbformat_minor": 5
}
